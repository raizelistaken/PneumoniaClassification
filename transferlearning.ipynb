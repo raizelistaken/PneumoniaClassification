{
 "cells": [
  {
   "cell_type": "code",
   "execution_count": 1,
   "id": "unlikely-violence",
   "metadata": {},
   "outputs": [],
   "source": [
    "import pandas as pd\n",
    "import os, shutil\n",
    "import tensorflow as tf\n",
    "import IPython.display as display\n",
    "import numpy as np\n",
    "import time\n",
    "import functools\n",
    "from sklearn.metrics import confusion_matrix, f1_score\n",
    "import keras\n",
    "from keras import models\n",
    "from keras import layers\n",
    "from keras.models import Sequential\n",
    "from keras.layers import Dense, Dropout, Activation, Flatten, Conv2D, MaxPooling2D\n",
    "from keras.optimizers import Adam, SGD\n",
    "from keras.optimizers import RMSprop\n",
    "from keras.models import load_model\n",
    "from keras.preprocessing.image import ImageDataGenerator, array_to_img, img_to_array, load_img\n",
    "import matplotlib.pyplot as plt\n",
    "import numpy as np\n",
    "import cv2\n",
    "import time"
   ]
  },
  {
   "cell_type": "code",
   "execution_count": 2,
   "id": "wrong-guyana",
   "metadata": {},
   "outputs": [],
   "source": [
    "datadir_train = 'C:/Users/Raizel/Desktop/Flatiron/phase1/Project4/PneumoniaClassification/chest_xray/train'\n",
    "datadir_test = 'C:/Users/Raizel/Desktop/Flatiron/phase1/Project4/PneumoniaClassification/chest_xray/test'\n",
    "datadir_validate = 'C:/Users/Raizel/Desktop/Flatiron/phase1/Project4/PneumoniaClassification/chest_xray/val'\n",
    "categories = ['NORMAL', 'PNEUMONIA']"
   ]
  },
  {
   "cell_type": "code",
   "execution_count": 3,
   "id": "adult-discount",
   "metadata": {},
   "outputs": [
    {
     "name": "stdout",
     "output_type": "stream",
     "text": [
      "Found 5216 images belonging to 2 classes.\n"
     ]
    }
   ],
   "source": [
    "data_train = ImageDataGenerator(rescale=1./255).flow_from_directory( \n",
    "        datadir_train, \n",
    "        target_size=(256, 256), \n",
    "        batch_size = 5216, \n",
    "        seed = 123,\n",
    "        class_mode=\"binary\") "
   ]
  },
  {
   "cell_type": "code",
   "execution_count": 4,
   "id": "continued-annotation",
   "metadata": {},
   "outputs": [
    {
     "name": "stdout",
     "output_type": "stream",
     "text": [
      "Found 624 images belonging to 2 classes.\n"
     ]
    }
   ],
   "source": [
    "data_test = ImageDataGenerator(rescale=1./255).flow_from_directory( \n",
    "        datadir_test, \n",
    "        target_size=(256, 256), \n",
    "        batch_size = 624, \n",
    "        seed = 123,\n",
    "        class_mode=\"binary\") "
   ]
  },
  {
   "cell_type": "code",
   "execution_count": 5,
   "id": "public-footwear",
   "metadata": {},
   "outputs": [
    {
     "name": "stdout",
     "output_type": "stream",
     "text": [
      "Found 16 images belonging to 2 classes.\n"
     ]
    }
   ],
   "source": [
    "data_val = ImageDataGenerator(rescale=1./255).flow_from_directory( \n",
    "        datadir_validate, \n",
    "        target_size=(256, 256), \n",
    "        batch_size = 16, \n",
    "        seed = 12,\n",
    "        class_mode=\"binary\") "
   ]
  },
  {
   "cell_type": "code",
   "execution_count": null,
   "id": "essential-chicago",
   "metadata": {},
   "outputs": [],
   "source": [
    "train_images, train_labels = next(data_train)\n",
    "test_images, test_labels = next(data_test)\n",
    "val_images, val_labels = next(data_val)"
   ]
  },
  {
   "cell_type": "code",
   "execution_count": null,
   "id": "independent-score",
   "metadata": {},
   "outputs": [],
   "source": [
    "X_train = np.array(train_images)\n",
    "y_train = np.array(train_labels)\n",
    "\n",
    "X_test = np.array(test_images)\n",
    "y_test = np.array(test_labels)\n",
    "\n",
    "X_val = np.array(val_images)\n",
    "y_val = np.array(val_labels)"
   ]
  },
  {
   "cell_type": "code",
   "execution_count": null,
   "id": "grateful-commons",
   "metadata": {},
   "outputs": [],
   "source": [
    "from keras.applications import inception_v3\n",
    "from keras.layers import Dense,GlobalAveragePooling2D\n",
    "from sklearn.metrics import confusion_matrix, f1_score\n",
    "from keras.models import Model"
   ]
  },
  {
   "cell_type": "code",
   "execution_count": null,
   "id": "final-pharmacy",
   "metadata": {},
   "outputs": [],
   "source": [
    "imagenet=inception_v3.InceptionV3(weights='imagenet',include_top=False)\n",
    "imagenet_new=imagenet.output\n",
    "new_model = models.Sequential()\n",
    "new_model.add(imagenet)\n",
    "new_model.add(GlobalAveragePooling2D())\n",
    "new_model.add(Dense(1024,activation='relu'))\n",
    "new_model.add(Dense(1024,activation='relu')) #dense layer 2\n",
    "new_model.add(Dense(512,activation='relu')) #dense layer 3\n",
    "new_model.add(Dense(1,activation='sigmoid')) #final layer with sigmoid activation"
   ]
  },
  {
   "cell_type": "code",
   "execution_count": null,
   "id": "pregnant-masters",
   "metadata": {},
   "outputs": [],
   "source": [
    "for i,layer in enumerate(imagenet.layers):\n",
    "  print(i,layer.name, layer.trainable)"
   ]
  },
  {
   "cell_type": "code",
   "execution_count": null,
   "id": "pretty-dynamics",
   "metadata": {},
   "outputs": [],
   "source": [
    "for i,layer in enumerate(new_model.layers):\n",
    "  print(i,layer.name, layer.trainable)"
   ]
  },
  {
   "cell_type": "code",
   "execution_count": null,
   "id": "handled-vision",
   "metadata": {},
   "outputs": [],
   "source": [
    "for layer in new_model.layers[:1]:\n",
    "    layer.trainable=False"
   ]
  },
  {
   "cell_type": "code",
   "execution_count": null,
   "id": "bearing-headset",
   "metadata": {},
   "outputs": [],
   "source": [
    "for i,layer in enumerate(new_model.layers):\n",
    "  print(i,layer.name, layer.trainable)"
   ]
  },
  {
   "cell_type": "code",
   "execution_count": null,
   "id": "sensitive-ballet",
   "metadata": {},
   "outputs": [],
   "source": [
    "new_model.compile(optimizer='Adam',loss='binary_crossentropy',metrics=['accuracy'])\n",
    "\n",
    "# step_size_train=train_generator.n//train_generator.batch_size\n",
    "new_model.fit(X_train,\n",
    "          y_train,\n",
    "          epochs=6,\n",
    "          batch_size=32,\n",
    "          validation_data=(X_val, y_val))"
   ]
  },
  {
   "cell_type": "code",
   "execution_count": null,
   "id": "capable-posting",
   "metadata": {},
   "outputs": [],
   "source": [
    "model.save('transferlearning')"
   ]
  },
  {
   "cell_type": "code",
   "execution_count": null,
   "id": "threaded-baptist",
   "metadata": {},
   "outputs": [],
   "source": [
    "new_model.evaluate(X_test, y_test)"
   ]
  },
  {
   "cell_type": "code",
   "execution_count": null,
   "id": "accessory-reward",
   "metadata": {},
   "outputs": [],
   "source": [
    "predictions_transfer = new_model.predict(X_test)\n",
    "predictions_transfer = np.around(predictions_transfer)"
   ]
  }
 ],
 "metadata": {
  "kernelspec": {
   "display_name": "Python 3",
   "language": "python",
   "name": "python3"
  },
  "language_info": {
   "codemirror_mode": {
    "name": "ipython",
    "version": 3
   },
   "file_extension": ".py",
   "mimetype": "text/x-python",
   "name": "python",
   "nbconvert_exporter": "python",
   "pygments_lexer": "ipython3",
   "version": "3.8.6"
  }
 },
 "nbformat": 4,
 "nbformat_minor": 5
}
