{
 "cells": [
  {
   "cell_type": "code",
   "execution_count": 3,
   "id": "fitted-malawi",
   "metadata": {},
   "outputs": [],
   "source": [
    "import pandas as pd\n",
    "import os, shutil\n",
    "import tensorflow as tf\n",
    "import IPython.display as display\n",
    "import numpy as np\n",
    "import time\n",
    "from sklearn.metrics import confusion_matrix, f1_score, accuracy_score, recall_score, precision_score, roc_curve, auc\n",
    "from sklearn.metrics import plot_confusion_matrix, classification_report\n",
    "import keras\n",
    "from tensorflow.keras import layers\n",
    "from tensorflow.keras.models import Sequential, load_model\n",
    "from tensorflow.keras.layers import Dense, Dropout, Activation, Flatten, Conv2D, MaxPooling2D\n",
    "from tensorflow.keras.optimizers import Adam, SGD\n",
    "from tensorflow.keras.optimizers import RMSprop\n",
    "from tensorflow.keras.preprocessing.image import ImageDataGenerator, array_to_img, img_to_array, load_img\n",
    "import seaborn as sns\n",
    "import matplotlib.pyplot as plt\n",
    "import numpy as np\n",
    "import cv2\n",
    "import time"
   ]
  },
  {
   "cell_type": "markdown",
   "id": "honey-mining",
   "metadata": {},
   "source": [
    "# Load in Images"
   ]
  },
  {
   "cell_type": "markdown",
   "id": "foreign-complement",
   "metadata": {},
   "source": [
    "The data directories are comprised of the file path strings, one for each train, test, and split. Within the file paths are two folders. One folder has normal chest xray photos (no pneumonia) and another folder has chest xrays of people with pneumonia."
   ]
  },
  {
   "cell_type": "code",
   "execution_count": null,
   "id": "anonymous-congress",
   "metadata": {},
   "outputs": [],
   "source": [
    "datadir_train = 'C:/Users/Raizel/Desktop/Flatiron/phase1/Project4/PneumoniaClassification/chest_xray/train'\n",
    "datadir_test = 'C:/Users/Raizel/Desktop/Flatiron/phase1/Project4/PneumoniaClassification/chest_xray/test'\n",
    "datadir_validate = 'C:/Users/Raizel/Desktop/Flatiron/phase1/Project4/PneumoniaClassification/chest_xray/val'\n",
    "categories = ['NORMAL', 'PNEUMONIA']"
   ]
  },
  {
   "cell_type": "markdown",
   "id": "cordless-lexington",
   "metadata": {},
   "source": [
    "# Pneumonia Domain Knowledge"
   ]
  },
  {
   "cell_type": "markdown",
   "id": "comparative-friendship",
   "metadata": {},
   "source": [
    "According to the MayoClinic, \"Pneumonia is an infection that inflames the air sacs in one or both lungs.\" People with Pneumonia experience caouing, extreme phlegm, fever, difficulty breathing, and chills. Pneumonia, like many other illness, is very uncomfortable. Using neural networks modeling once can classify an image of a healthy lung compared to the image of a lung of a Pneumonia patient. This way the doctor can learn more about the disease to correctly classify patients as having Pneumonia or not having Pneumonia."
   ]
  },
  {
   "cell_type": "markdown",
   "id": "union-forum",
   "metadata": {},
   "source": [
    "# Data Augmentation"
   ]
  },
  {
   "cell_type": "code",
   "execution_count": null,
   "id": "contrary-dialogue",
   "metadata": {},
   "outputs": [],
   "source": [
    "data_train = ImageDataGenerator(rescale=1./255).flow_from_directory( \n",
    "        datadir_train, \n",
    "        target_size=(256, 256), \n",
    "        batch_size = 600, \n",
    "        seed = 27,\n",
    "        class_mode=\"binary\") "
   ]
  },
  {
   "cell_type": "code",
   "execution_count": null,
   "id": "objective-applicant",
   "metadata": {},
   "outputs": [],
   "source": [
    "data_test = ImageDataGenerator(rescale=1./255).flow_from_directory( \n",
    "        datadir_test, \n",
    "        target_size=(256, 256), \n",
    "        batch_size = 624, \n",
    "        seed = 27,\n",
    "        class_mode=\"binary\")"
   ]
  },
  {
   "cell_type": "code",
   "execution_count": null,
   "id": "saving-pierce",
   "metadata": {},
   "outputs": [],
   "source": [
    "data_val = ImageDataGenerator(rescale=1./255).flow_from_directory( \n",
    "        datadir_validate, \n",
    "        target_size=(256, 256), \n",
    "        batch_size = 16, \n",
    "        seed = 12,\n",
    "        class_mode=\"binary\")"
   ]
  },
  {
   "cell_type": "markdown",
   "id": "coordinate-radar",
   "metadata": {},
   "source": [
    "# Images"
   ]
  },
  {
   "cell_type": "code",
   "execution_count": null,
   "id": "economic-campbell",
   "metadata": {},
   "outputs": [],
   "source": [
    "train_images, train_labels = next(data_train)\n",
    "test_images, test_labels = next(data_test)\n",
    "val_images, val_labels = next(data_val)"
   ]
  },
  {
   "cell_type": "code",
   "execution_count": null,
   "id": "architectural-virgin",
   "metadata": {},
   "outputs": [],
   "source": [
    "X_train = np.array(train_images)\n",
    "y_train = np.array(train_labels)\n",
    "\n",
    "X_test = np.array(test_images)\n",
    "y_test = np.array(test_labels)\n",
    "\n",
    "X_val = np.array(val_images)\n",
    "y_val = np.array(val_labels)"
   ]
  },
  {
   "cell_type": "code",
   "execution_count": null,
   "id": "compliant-orlando",
   "metadata": {},
   "outputs": [],
   "source": [
    "#visualize images\n",
    "%matplotlib inline\n",
    "import matplotlib.pyplot as plt\n",
    "\n",
    "\n",
    "fig = plt.figure(figsize = (18,12))\n",
    "for i in range(9):\n",
    "    plt.subplot(330 + 1 + i)\n",
    "    plt.imshow(train_images[i])\n",
    "    plt.title(categories[int(train_labels[i])], fontsize = 15)\n",
    "plt.show()"
   ]
  },
  {
   "cell_type": "markdown",
   "id": "dedicated-month",
   "metadata": {},
   "source": [
    "Since Pneumonia is known to inflame both lungs, I predicted the cloudier images are from Pneumonia patients. https://www.radiologyinfo.org/en/info.cfm?pg=pneumonia says white spots in the lungs is how doctors find an infection from an chest x-ray. "
   ]
  },
  {
   "cell_type": "markdown",
   "id": "cloudy-optimization",
   "metadata": {},
   "source": [
    "# Model One - Feedforward Neural Network"
   ]
  },
  {
   "cell_type": "code",
   "execution_count": null,
   "id": "complicated-fight",
   "metadata": {},
   "outputs": [],
   "source": [
    "num_classes = 1\n",
    "\n",
    "# specifying the model structure\n",
    "model = Sequential()\n",
    "\n",
    "#matching shape sizes\n",
    "print(y_train.shape)\n",
    "print(X_train.shape)\n",
    "\n",
    "# specify the first hidden layer\n",
    "model.add(Dense(64, activation='relu'))\n",
    "model.add(Dropout(0.2))\n",
    "\n",
    "# specify the second layer\n",
    "model.add(Dense(64))\n",
    "model.add(Dropout(0.2))\n",
    "\n",
    "# specify the output layer\n",
    "model.add(Dense(num_classes, activation='sigmoid'))\n",
    "\n",
    "# model.summary()\n",
    "model.compile(loss='binary_crossentropy',\n",
    "              optimizer=Adam(),\n",
    "              metrics=['accuracy'])\n",
    "\n",
    "#history necessary for summary and evaluation\n",
    "history = model.fit(X_train.flatten()[:len(y_train)], y_train,\n",
    "                    batch_size= 1,\n",
    "                    epochs=4,\n",
    "                    verbose=1,\n",
    "                    validation_data=(X_val.flatten()[:len(y_val)], y_val.flatten()))\n",
    "score = model.evaluate(X_test.flatten()[:len(y_test)], y_test.flatten(), verbose=0)\n",
    "print('Test loss:', score[0])\n",
    "print('Test accuracy:', score[1])"
   ]
  },
  {
   "cell_type": "code",
   "execution_count": null,
   "id": "official-front",
   "metadata": {},
   "outputs": [],
   "source": [
    "model.summary()"
   ]
  },
  {
   "cell_type": "code",
   "execution_count": null,
   "id": "pediatric-winter",
   "metadata": {},
   "outputs": [],
   "source": [
    "results_train = model.evaluate(X_train.flatten()[:len(y_train)], y_train)\n",
    "results_test = model.evaluate(X_test.flatten()[:len(y_test)], y_test.flatten())\n",
    "print(results_train, results_test)"
   ]
  },
  {
   "cell_type": "markdown",
   "id": "permanent-comment",
   "metadata": {},
   "source": [
    "# Evaluation Metrics - Model One"
   ]
  },
  {
   "cell_type": "code",
   "execution_count": null,
   "id": "disabled-mandate",
   "metadata": {},
   "outputs": [],
   "source": [
    "#confusion matrix\n",
    "pred = cnn.predict(X_test)\n",
    "cm = confusion_matrix(y_test, pred.round())\n",
    "cm"
   ]
  },
  {
   "cell_type": "code",
   "execution_count": null,
   "id": "czech-accident",
   "metadata": {},
   "outputs": [],
   "source": [
    "classification_report(y_test, pred.round())"
   ]
  },
  {
   "cell_type": "code",
   "execution_count": null,
   "id": "distant-familiar",
   "metadata": {},
   "outputs": [],
   "source": [
    "sns.heatmap(cm, annot=True, fmt='g', xticklabels = ['normal', 'pn'], yticklabels = ['normal', 'pn'])"
   ]
  },
  {
   "cell_type": "markdown",
   "id": "needed-penetration",
   "metadata": {},
   "source": [
    "ex. brain surgeoun trying to move cancer - precsion - being conservative and not moving a lot of cells, just cancerous cells - recall - get rid of more cells assuming cancerous - not leaving positives behind\n",
    "\n",
    "Precision = TP/TP+FP Recall = TP/TP+FN\n",
    "\n",
    "advantages\n",
    "- independent, observations don't imapact each other\n",
    "\n",
    "disadvantages\n",
    "- underfit ---> variance lower , rigid structure - very few parameters - simple model therefore less variance \n",
    "- uses gradient descent - cost function is log likely hood function, if you have a lot of parameters very hard for a lot of parameters to converge, might get stuck on local maximum bc dont have global maximum "
   ]
  },
  {
   "cell_type": "code",
   "execution_count": null,
   "id": "numerous-collector",
   "metadata": {},
   "outputs": [],
   "source": [
    "There are 75 true positive (normal images), 371 true negative (pneumonia images), "
   ]
  },
  {
   "cell_type": "code",
   "execution_count": null,
   "id": "enabling-cedar",
   "metadata": {},
   "outputs": [],
   "source": []
  }
 ],
 "metadata": {
  "kernelspec": {
   "display_name": "Python 3",
   "language": "python",
   "name": "python3"
  },
  "language_info": {
   "codemirror_mode": {
    "name": "ipython",
    "version": 3
   },
   "file_extension": ".py",
   "mimetype": "text/x-python",
   "name": "python",
   "nbconvert_exporter": "python",
   "pygments_lexer": "ipython3",
   "version": "3.8.6"
  }
 },
 "nbformat": 4,
 "nbformat_minor": 5
}
