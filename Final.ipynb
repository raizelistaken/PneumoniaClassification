{
 "cells": [
  {
   "cell_type": "code",
   "execution_count": 14,
   "id": "threatened-allowance",
   "metadata": {},
   "outputs": [],
   "source": [
    "import pandas as pd\n",
    "import os, shutil\n",
    "import tensorflow as tf\n",
    "import IPython.display as display\n",
    "import numpy as np\n",
    "import time\n",
    "from sklearn.metrics import confusion_matrix, f1_score, accuracy_score, recall_score, precision_score, roc_curve, auc\n",
    "from sklearn.metrics import plot_confusion_matrix, classification_report\n",
    "import keras\n",
    "from tensorflow.keras import layers, models\n",
    "from tensorflow.keras.models import Sequential, load_model\n",
    "from tensorflow.keras.layers import Dense, Dropout, Activation, Flatten, Conv2D, MaxPooling2D\n",
    "from tensorflow.keras.optimizers import Adam, SGD\n",
    "from tensorflow.keras.optimizers import RMSprop\n",
    "from tensorflow.keras.preprocessing.image import ImageDataGenerator, array_to_img, img_to_array, load_img\n",
    "import seaborn as sns\n",
    "import matplotlib.pyplot as plt\n",
    "import numpy as np\n",
    "import cv2\n",
    "import time"
   ]
  },
  {
   "cell_type": "markdown",
   "id": "collective-posting",
   "metadata": {},
   "source": [
    "# Load in Images"
   ]
  },
  {
   "cell_type": "markdown",
   "id": "alert-insertion",
   "metadata": {},
   "source": [
    "The data directories are comprised of the file path strings, one for each train, test, and split. Within the file paths are two folders. One folder has normal chest xray photos (no pneumonia) and another folder has chest xrays of people with pneumonia."
   ]
  },
  {
   "cell_type": "code",
   "execution_count": 7,
   "id": "divine-prospect",
   "metadata": {},
   "outputs": [],
   "source": [
    "datadir_train = 'C:/Users/Raizel/Desktop/Flatiron/phase1/Project4/PneumoniaClassification/chest_xray/train'\n",
    "datadir_test = 'C:/Users/Raizel/Desktop/Flatiron/phase1/Project4/PneumoniaClassification/chest_xray/test'\n",
    "datadir_validate = 'C:/Users/Raizel/Desktop/Flatiron/phase1/Project4/PneumoniaClassification/chest_xray/val'\n",
    "categories = ['NORMAL', 'PNEUMONIA']"
   ]
  },
  {
   "cell_type": "markdown",
   "id": "theoretical-associate",
   "metadata": {},
   "source": [
    "# Pneumonia Domain Knowledge"
   ]
  },
  {
   "cell_type": "markdown",
   "id": "molecular-enough",
   "metadata": {},
   "source": [
    "According to the MayoClinic, \"Pneumonia is an infection that inflames the air sacs in one or both lungs.\" People with Pneumonia experience caouing, extreme phlegm, fever, difficulty breathing, and chills. Pneumonia, like many other illness, is very uncomfortable. Using neural networks modeling once can classify an image of a healthy lung compared to the image of a lung of a Pneumonia patient. This way the doctor can learn more about the disease to correctly classify patients as having Pneumonia or not having Pneumonia."
   ]
  },
  {
   "cell_type": "markdown",
   "id": "conservative-federal",
   "metadata": {},
   "source": [
    "# Data Augmentation"
   ]
  },
  {
   "cell_type": "code",
   "execution_count": 8,
   "id": "verified-kansas",
   "metadata": {},
   "outputs": [
    {
     "name": "stdout",
     "output_type": "stream",
     "text": [
      "Found 5216 images belonging to 2 classes.\n"
     ]
    }
   ],
   "source": [
    "data_train = ImageDataGenerator(rescale=1./255).flow_from_directory( \n",
    "        datadir_train, \n",
    "        target_size=(256, 256), \n",
    "        batch_size = 600, \n",
    "        seed = 27,\n",
    "        class_mode=\"binary\") "
   ]
  },
  {
   "cell_type": "code",
   "execution_count": 9,
   "id": "stone-update",
   "metadata": {},
   "outputs": [
    {
     "name": "stdout",
     "output_type": "stream",
     "text": [
      "Found 624 images belonging to 2 classes.\n"
     ]
    }
   ],
   "source": [
    "data_test = ImageDataGenerator(rescale=1./255).flow_from_directory( \n",
    "        datadir_test, \n",
    "        target_size=(256, 256), \n",
    "        batch_size = 624, \n",
    "        seed = 27,\n",
    "        class_mode=\"binary\")"
   ]
  },
  {
   "cell_type": "code",
   "execution_count": 10,
   "id": "immune-robert",
   "metadata": {},
   "outputs": [
    {
     "name": "stdout",
     "output_type": "stream",
     "text": [
      "Found 16 images belonging to 2 classes.\n"
     ]
    }
   ],
   "source": [
    "data_val = ImageDataGenerator(rescale=1./255).flow_from_directory( \n",
    "        datadir_validate, \n",
    "        target_size=(256, 256), \n",
    "        batch_size = 16, \n",
    "        seed = 12,\n",
    "        class_mode=\"binary\")"
   ]
  },
  {
   "cell_type": "markdown",
   "id": "foreign-score",
   "metadata": {},
   "source": [
    "# Images"
   ]
  },
  {
   "cell_type": "code",
   "execution_count": 11,
   "id": "hawaiian-access",
   "metadata": {},
   "outputs": [],
   "source": [
    "train_images, train_labels = next(data_train)\n",
    "test_images, test_labels = next(data_test)\n",
    "val_images, val_labels = next(data_val)"
   ]
  },
  {
   "cell_type": "code",
   "execution_count": 12,
   "id": "existing-print",
   "metadata": {},
   "outputs": [],
   "source": [
    "X_train = np.array(train_images)\n",
    "y_train = np.array(train_labels)\n",
    "\n",
    "X_test = np.array(test_images)\n",
    "y_test = np.array(test_labels)\n",
    "\n",
    "X_val = np.array(val_images)\n",
    "y_val = np.array(val_labels)"
   ]
  },
  {
   "cell_type": "code",
   "execution_count": null,
   "id": "european-price",
   "metadata": {},
   "outputs": [],
   "source": [
    "#visualize images\n",
    "%matplotlib inline\n",
    "import matplotlib.pyplot as plt\n",
    "\n",
    "\n",
    "fig = plt.figure(figsize = (18,12))\n",
    "for i in range(9):\n",
    "    plt.subplot(330 + 1 + i)\n",
    "    plt.imshow(train_images[i])\n",
    "    plt.title(categories[int(train_labels[i])], fontsize = 15)\n",
    "plt.show()"
   ]
  },
  {
   "cell_type": "markdown",
   "id": "excited-scholar",
   "metadata": {},
   "source": [
    "Since Pneumonia is known to inflame both lungs, I predicted the cloudier images are from Pneumonia patients. https://www.radiologyinfo.org/en/info.cfm?pg=pneumonia says white spots in the lungs is how doctors find an infection from an chest x-ray. "
   ]
  },
  {
   "cell_type": "markdown",
   "id": "seven-chemical",
   "metadata": {},
   "source": [
    "# Model One - Feedforward Neural Network"
   ]
  },
  {
   "cell_type": "code",
   "execution_count": null,
   "id": "nearby-trout",
   "metadata": {},
   "outputs": [],
   "source": [
    "num_classes = 1\n",
    "\n",
    "# specifying the model structure\n",
    "model = Sequential()\n",
    "\n",
    "#matching shape sizes\n",
    "print(y_train.shape)\n",
    "print(X_train.shape)\n",
    "\n",
    "# specify the first hidden layer\n",
    "model.add(Dense(64, activation='relu'))\n",
    "model.add(Dropout(0.2))\n",
    "\n",
    "# specify the second layer\n",
    "model.add(Dense(64))\n",
    "model.add(Dropout(0.2))\n",
    "\n",
    "# specify the output layer\n",
    "model.add(Dense(num_classes, activation='sigmoid'))\n",
    "\n",
    "# model.summary()\n",
    "model.compile(loss='binary_crossentropy',\n",
    "              optimizer=Adam(),\n",
    "              metrics=['acc', 'Recall', 'Precision'])\n",
    "\n",
    "#history necessary for summary and evaluation\n",
    "history = model.fit(X_train.flatten()[:len(y_train)], y_train,\n",
    "                    batch_size= 1,\n",
    "                    epochs=4,\n",
    "                    verbose=1,\n",
    "                    validation_data=(X_val.flatten()[:len(y_val)], y_val.flatten()))\n",
    "score = model.evaluate(X_test.flatten()[:len(y_test)], y_test.flatten(), verbose=0)\n",
    "print('Test loss:', score[0])\n",
    "print('Test accuracy:', score[1])"
   ]
  },
  {
   "cell_type": "code",
   "execution_count": null,
   "id": "mathematical-ireland",
   "metadata": {},
   "outputs": [],
   "source": [
    "model.summary()"
   ]
  },
  {
   "cell_type": "code",
   "execution_count": null,
   "id": "attached-suspect",
   "metadata": {},
   "outputs": [],
   "source": [
    "results_train = model.evaluate(X_train.flatten()[:len(y_train)], y_train)\n",
    "results_test = model.evaluate(X_test.flatten()[:len(y_test)], y_test.flatten())\n",
    "print(results_train, results_test)"
   ]
  },
  {
   "cell_type": "markdown",
   "id": "identified-graphic",
   "metadata": {},
   "source": [
    "# Evaluation Metrics - Model One"
   ]
  },
  {
   "cell_type": "code",
   "execution_count": null,
   "id": "premium-relay",
   "metadata": {},
   "outputs": [],
   "source": [
    "#confusion matrix\n",
    "pred = cnn.predict(X_test)\n",
    "cm = confusion_matrix(y_test, pred.round())\n",
    "cm"
   ]
  },
  {
   "cell_type": "code",
   "execution_count": null,
   "id": "settled-faith",
   "metadata": {},
   "outputs": [],
   "source": [
    "classification_report(y_test, pred.round())"
   ]
  },
  {
   "cell_type": "code",
   "execution_count": null,
   "id": "tribal-syndrome",
   "metadata": {},
   "outputs": [],
   "source": [
    "sns.heatmap(cm, annot=True, fmt='g', xticklabels = ['normal', 'pn'], yticklabels = ['normal', 'pn'])"
   ]
  },
  {
   "cell_type": "markdown",
   "id": "hired-baptist",
   "metadata": {},
   "source": [
    "ex. brain surgeoun trying to move cancer - precsion - being conservative and not moving a lot of cells, just cancerous cells - recall - get rid of more cells assuming cancerous - not leaving positives behind\n",
    "\n",
    "Precision = TP/TP+FP Recall = TP/TP+FN\n",
    "\n",
    "advantages\n",
    "- independent, observations don't imapact each other\n",
    "\n",
    "disadvantages\n",
    "- underfit ---> variance lower , rigid structure - very few parameters - simple model therefore less variance "
   ]
  },
  {
   "cell_type": "markdown",
   "id": "anonymous-banner",
   "metadata": {},
   "source": [
    "There are 75 true negatives (normal images), 371 true positives (pneumonia images), 159 false positives, and 19 false negatives."
   ]
  },
  {
   "cell_type": "markdown",
   "id": "complex-maintenance",
   "metadata": {},
   "source": [
    "- Precision = TP/TP+FP = ((371)/(371+159)) = .7\n",
    "- Recall = TP/TP+FN  = ((371)/(371+19)) = .95"
   ]
  },
  {
   "cell_type": "markdown",
   "id": "downtown-separate",
   "metadata": {},
   "source": [
    "The recall is good and the percision is ok (could be a lot better) which means the model didn't precisely differentiate between the two."
   ]
  },
  {
   "cell_type": "markdown",
   "id": "statewide-compromise",
   "metadata": {},
   "source": [
    "# Model Two - CNN"
   ]
  },
  {
   "cell_type": "code",
   "execution_count": null,
   "id": "adequate-breathing",
   "metadata": {},
   "outputs": [],
   "source": [
    "tic = time.time()\n",
    "cnn2 = models.Sequential()\n",
    "cnn2.add(layers.Conv2D(64, (3, 3), activation='relu', input_shape=(256, 256,  3), padding = 'same')) #3 x 3 shape of filter, 64 convolutions\n",
    "cnn2.add(layers.MaxPooling2D((2, 2),padding='same'))\n",
    "cnn2.add(layers.Conv2D(32, (3, 3), activation='relu'))\n",
    "cnn2.add(layers.AveragePooling2D((2, 2),padding='same'))\n",
    "cnn2.add(layers.Flatten())\n",
    "cnn2.add(layers.Dense(32, activation='relu'))\n",
    "cnn2.add(layers.Dropout(.5))\n",
    "cnn2.add(layers.Dense(1, activation='sigmoid')) #sigmoid bc classification problem\n",
    "\n",
    "cnn2.compile(loss='binary_crossentropy',\n",
    "              optimizer=RMSprop(learning_rate=0.002),\n",
    "              metrics=['acc', 'Recall', 'Precision', 'AUC'])\n",
    "\n",
    "history = cnn2.fit(X_train,\n",
    "                y_train,\n",
    "                epochs=5,\n",
    "                batch_size=25,\n",
    "                validation_data=(X_val, y_val))\n",
    "toc = time.time()\n",
    "print('run time:', toc-tic)"
   ]
  },
  {
   "cell_type": "code",
   "execution_count": null,
   "id": "competitive-mauritius",
   "metadata": {},
   "outputs": [],
   "source": [
    "cnn2.summary()"
   ]
  },
  {
   "cell_type": "code",
   "execution_count": null,
   "id": "owned-aerospace",
   "metadata": {},
   "outputs": [],
   "source": [
    "results_train = cnn2.evaluate(data_train)\n",
    "results_test = cnn2.evaluate(data_test)\n",
    "print(results_train, results_test)"
   ]
  },
  {
   "cell_type": "markdown",
   "id": "flexible-samoa",
   "metadata": {},
   "source": [
    "## Evaluation Metrics - Model Two"
   ]
  },
  {
   "cell_type": "code",
   "execution_count": null,
   "id": "magnetic-radical",
   "metadata": {},
   "outputs": [],
   "source": [
    "#confusion matrix\n",
    "pred2 = cnn2.predict(X_test)\n",
    "cm = confusion_matrix(y_test, pred2.round())"
   ]
  },
  {
   "cell_type": "code",
   "execution_count": null,
   "id": "heated-sucking",
   "metadata": {},
   "outputs": [],
   "source": [
    "classification_report(y_test, pred2.round())"
   ]
  },
  {
   "cell_type": "code",
   "execution_count": null,
   "id": "exposed-table",
   "metadata": {},
   "outputs": [],
   "source": [
    "sns.heatmap(cm, annot=True, fmt='g', xticklabels = ['normal', 'pn'], yticklabels = ['normal', 'pn'])"
   ]
  },
  {
   "cell_type": "code",
   "execution_count": null,
   "id": "whole-independence",
   "metadata": {},
   "outputs": [],
   "source": []
  },
  {
   "cell_type": "code",
   "execution_count": null,
   "id": "english-barrier",
   "metadata": {},
   "outputs": [],
   "source": []
  },
  {
   "cell_type": "markdown",
   "id": "starting-librarian",
   "metadata": {},
   "source": [
    "# Model Three - CNN"
   ]
  },
  {
   "cell_type": "code",
   "execution_count": null,
   "id": "strong-antenna",
   "metadata": {},
   "outputs": [],
   "source": [
    "cnn3 = models.Sequential()\n",
    "cnn3.add(layers.Conv2D(64, (3, 3), activation='relu', input_shape=(256, 256,  3), padding = 'same')) #3 x 3 shape of filter, 64 convolutions\n",
    "cnn3.add(layers.MaxPooling2D((2, 2),padding='same')) #padding added so edge pixels get included in convolution\n",
    "cnn3.add(layers.Conv2D(32, (3, 3), activation='relu', padding = 'same')) #hidden layer\n",
    "cnn3.add(layers.MaxPooling2D((2, 2),padding='same')) #max pooling\n",
    "cnn3.add(layers.Flatten()) #flatten layer\n",
    "cnn3.add(layers.Dense(32, activation='relu'))\n",
    "cnn3.add(layers.Dense(1, activation='sigmoid')) #sigmoid bc classification problem\n",
    "\n",
    "cnn.compile(loss='binary_crossentropy',\n",
    "              optimizer=Adam(learning_rate=0.007),\n",
    "              metrics=['acc', 'Recall', 'Precision']) #compiling with gradient descent\n",
    "\n",
    "history = cnn3.fit(X_train,\n",
    "                y_train,\n",
    "                epochs=5,\n",
    "                batch_size=25,\n",
    "                validation_data=(X_val, y_val))"
   ]
  },
  {
   "cell_type": "code",
   "execution_count": null,
   "id": "reliable-african",
   "metadata": {},
   "outputs": [],
   "source": [
    "cnn3.summary()"
   ]
  },
  {
   "cell_type": "code",
   "execution_count": null,
   "id": "incorrect-sharp",
   "metadata": {},
   "outputs": [],
   "source": [
    "results_train = cnn3.evaluate(data_train)\n",
    "results_test = cnn3.evaluate(data_test)\n",
    "print(results_train, results_test)"
   ]
  },
  {
   "cell_type": "markdown",
   "id": "tribal-chuck",
   "metadata": {},
   "source": [
    "## Evaluation Metrics - Model 3"
   ]
  },
  {
   "cell_type": "code",
   "execution_count": null,
   "id": "homeless-possible",
   "metadata": {},
   "outputs": [],
   "source": [
    "#confusion matrix\n",
    "pred = cnn3.predict(X_test)\n",
    "cm = confusion_matrix(y_test, pred.round())\n",
    "cm"
   ]
  },
  {
   "cell_type": "code",
   "execution_count": null,
   "id": "listed-canada",
   "metadata": {},
   "outputs": [],
   "source": [
    "plot_confusion_matrix(y_test, pred.round())"
   ]
  },
  {
   "cell_type": "code",
   "execution_count": null,
   "id": "silver-collar",
   "metadata": {},
   "outputs": [],
   "source": [
    "classification_report(y_test, pred.round())"
   ]
  },
  {
   "cell_type": "code",
   "execution_count": null,
   "id": "sorted-modern",
   "metadata": {},
   "outputs": [],
   "source": [
    "sns.heatmap(cm, annot=True, fmt='g', xticklabels = ['normal', 'pn'], yticklabels = ['normal', 'pn'])"
   ]
  },
  {
   "cell_type": "code",
   "execution_count": null,
   "id": "included-torture",
   "metadata": {},
   "outputs": [],
   "source": []
  },
  {
   "cell_type": "code",
   "execution_count": null,
   "id": "sensitive-handling",
   "metadata": {},
   "outputs": [],
   "source": []
  },
  {
   "cell_type": "markdown",
   "id": "peaceful-clerk",
   "metadata": {},
   "source": [
    "# Model 4 - CNN"
   ]
  },
  {
   "cell_type": "code",
   "execution_count": 15,
   "id": "artistic-retreat",
   "metadata": {},
   "outputs": [],
   "source": [
    "tic = time.time()\n",
    "cnn4 = models.Sequential()\n",
    "cnn4.add(layers.Conv2D(64, (3, 3), activation='relu', input_shape=(256, 256,  3), padding = 'same',strides=2)) #3 x 3 shape of filter, 64 convolutions\n",
    "cnn4.add(layers.AveragePooling2D((2, 2),padding='same',strides=2))\n",
    "cnn4.add(layers.Conv2D(32, (3, 3), activation='relu',padding='same',strides=2))\n",
    "cnn4.add(layers.AveragePooling2D((2, 2),padding='same',strides=2))\n",
    "cnn4.add(layers.Flatten())\n",
    "cnn4.add(layers.Dense(32, activation='relu'))\n",
    "cnn4.add(layers.Dense(1, activation='sigmoid')) #sigmoid bc classification problem\n",
    "\n",
    "cnn4.compile(loss='binary_crossentropy',\n",
    "              optimizer=Adam(learning_rate=0.002),\n",
    "              metrics=['acc', 'Recall', 'Precision'])"
   ]
  },
  {
   "cell_type": "code",
   "execution_count": 16,
   "id": "external-joint",
   "metadata": {},
   "outputs": [
    {
     "name": "stdout",
     "output_type": "stream",
     "text": [
      "Epoch 1/9\n",
      "24/24 [==============================] - 10s 313ms/step - loss: 0.6186 - acc: 0.7349 - recall: 0.9917 - precision: 0.7376 - val_loss: 0.6469 - val_acc: 0.7500 - val_recall: 0.8750 - val_precision: 0.7000\n",
      "Epoch 2/9\n",
      "24/24 [==============================] - 8s 334ms/step - loss: 0.5127 - acc: 0.7582 - recall: 0.9551 - precision: 0.7675 - val_loss: 0.7135 - val_acc: 0.7500 - val_recall: 1.0000 - val_precision: 0.6667\n",
      "Epoch 3/9\n",
      "24/24 [==============================] - 9s 360ms/step - loss: 0.3435 - acc: 0.8473 - recall: 0.9189 - precision: 0.8753 - val_loss: 0.9642 - val_acc: 0.6875 - val_recall: 1.0000 - val_precision: 0.6154\n",
      "Epoch 4/9\n",
      "24/24 [==============================] - 9s 356ms/step - loss: 0.2159 - acc: 0.9146 - recall: 0.9522 - precision: 0.9359 - val_loss: 0.4847 - val_acc: 0.8750 - val_recall: 1.0000 - val_precision: 0.8000\n",
      "Epoch 5/9\n",
      "24/24 [==============================] - 9s 380ms/step - loss: 0.2297 - acc: 0.9268 - recall: 0.9510 - precision: 0.9523 - val_loss: 0.3459 - val_acc: 0.9375 - val_recall: 1.0000 - val_precision: 0.8889\n",
      "Epoch 6/9\n",
      "24/24 [==============================] - 9s 363ms/step - loss: 0.1360 - acc: 0.9460 - recall: 0.9826 - precision: 0.9459 - val_loss: 0.2380 - val_acc: 0.9375 - val_recall: 1.0000 - val_precision: 0.8889\n",
      "Epoch 7/9\n",
      "24/24 [==============================] - 8s 347ms/step - loss: 0.1341 - acc: 0.9611 - recall: 0.9688 - precision: 0.9773 - val_loss: 0.5287 - val_acc: 0.7500 - val_recall: 1.0000 - val_precision: 0.6667\n",
      "Epoch 8/9\n",
      "24/24 [==============================] - 8s 343ms/step - loss: 0.1716 - acc: 0.9363 - recall: 0.9776 - precision: 0.9446 - val_loss: 0.3040 - val_acc: 0.9375 - val_recall: 1.0000 - val_precision: 0.8889\n",
      "Epoch 9/9\n",
      "24/24 [==============================] - 8s 344ms/step - loss: 0.1071 - acc: 0.9709 - recall: 0.9798 - precision: 0.9810 - val_loss: 0.2826 - val_acc: 0.9375 - val_recall: 1.0000 - val_precision: 0.8889\n",
      "run time: 81.31463956832886\n"
     ]
    }
   ],
   "source": [
    "history = cnn4.fit(X_train,\n",
    "                    y_train,\n",
    "                    epochs=9,\n",
    "                    batch_size=25,\n",
    "                    validation_data=(X_val, y_val))\n",
    "toc = time.time()\n",
    "print('run time:', toc-tic)"
   ]
  },
  {
   "cell_type": "code",
   "execution_count": 17,
   "id": "educated-gothic",
   "metadata": {},
   "outputs": [
    {
     "name": "stdout",
     "output_type": "stream",
     "text": [
      "Model: \"sequential\"\n",
      "_________________________________________________________________\n",
      "Layer (type)                 Output Shape              Param #   \n",
      "=================================================================\n",
      "conv2d (Conv2D)              (None, 128, 128, 64)      1792      \n",
      "_________________________________________________________________\n",
      "average_pooling2d (AveragePo (None, 64, 64, 64)        0         \n",
      "_________________________________________________________________\n",
      "conv2d_1 (Conv2D)            (None, 32, 32, 32)        18464     \n",
      "_________________________________________________________________\n",
      "average_pooling2d_1 (Average (None, 16, 16, 32)        0         \n",
      "_________________________________________________________________\n",
      "flatten (Flatten)            (None, 8192)              0         \n",
      "_________________________________________________________________\n",
      "dense (Dense)                (None, 32)                262176    \n",
      "_________________________________________________________________\n",
      "dense_1 (Dense)              (None, 1)                 33        \n",
      "=================================================================\n",
      "Total params: 282,465\n",
      "Trainable params: 282,465\n",
      "Non-trainable params: 0\n",
      "_________________________________________________________________\n"
     ]
    }
   ],
   "source": [
    "cnn4.summary()"
   ]
  },
  {
   "cell_type": "code",
   "execution_count": 18,
   "id": "medical-dialogue",
   "metadata": {},
   "outputs": [
    {
     "name": "stdout",
     "output_type": "stream",
     "text": [
      "9/9 [==============================] - 121s 13s/step - loss: 0.1362 - acc: 0.9498 - recall: 0.9548 - precision: 0.9770\n",
      "1/1 [==============================] - 15s 15s/step - loss: 0.6351 - acc: 0.7917 - recall: 0.9718 - precision: 0.7610\n",
      "[0.13622213900089264, 0.949769914150238, 0.9548386931419373, 0.977026641368866] [0.6350787281990051, 0.7916666865348816, 0.971794843673706, 0.7610442042350769]\n"
     ]
    }
   ],
   "source": [
    "results_train = cnn4.evaluate(data_train)\n",
    "results_test = cnn4.evaluate(data_test)\n",
    "print(results_train, results_test)"
   ]
  },
  {
   "cell_type": "markdown",
   "id": "recorded-strength",
   "metadata": {},
   "source": [
    "## Evaluation Metrics - Model 4 "
   ]
  },
  {
   "cell_type": "code",
   "execution_count": 19,
   "id": "spoken-investment",
   "metadata": {},
   "outputs": [
    {
     "data": {
      "text/plain": [
       "array([[115, 119],\n",
       "       [ 11, 379]], dtype=int64)"
      ]
     },
     "execution_count": 19,
     "metadata": {},
     "output_type": "execute_result"
    }
   ],
   "source": [
    "pred4 = cnn4.predict(X_test)\n",
    "cm = confusion_matrix(y_test, pred4.round())\n",
    "cm"
   ]
  },
  {
   "cell_type": "code",
   "execution_count": 20,
   "id": "peripheral-store",
   "metadata": {},
   "outputs": [
    {
     "data": {
      "text/plain": [
       "'              precision    recall  f1-score   support\\n\\n         0.0       0.91      0.49      0.64       234\\n         1.0       0.76      0.97      0.85       390\\n\\n    accuracy                           0.79       624\\n   macro avg       0.84      0.73      0.75       624\\nweighted avg       0.82      0.79      0.77       624\\n'"
      ]
     },
     "execution_count": 20,
     "metadata": {},
     "output_type": "execute_result"
    }
   ],
   "source": [
    "classification_report(y_test, pred4.round())"
   ]
  },
  {
   "cell_type": "code",
   "execution_count": 22,
   "id": "needed-highlight",
   "metadata": {},
   "outputs": [
    {
     "data": {
      "text/plain": [
       "<AxesSubplot:>"
      ]
     },
     "execution_count": 22,
     "metadata": {},
     "output_type": "execute_result"
    },
    {
     "data": {
      "image/png": "[encoded data removed]",
      "text/plain": [
       "<Figure size 432x288 with 2 Axes>"
      ]
     },
     "metadata": {
      "needs_background": "light"
     },
     "output_type": "display_data"
    }
   ],
   "source": [
    "sns.heatmap(cm, annot=True, fmt='g', xticklabels = ['normal', 'pneumonia'], yticklabels = ['normal', 'pneumonia'])"
   ]
  },
  {
   "cell_type": "code",
   "execution_count": null,
   "id": "worst-technical",
   "metadata": {},
   "outputs": [],
   "source": []
  },
  {
   "cell_type": "code",
   "execution_count": null,
   "id": "funky-revolution",
   "metadata": {},
   "outputs": [],
   "source": []
  },
  {
   "cell_type": "markdown",
   "id": "identified-discrimination",
   "metadata": {},
   "source": [
    "# Model 5 - InceptionV3"
   ]
  },
  {
   "cell_type": "code",
   "execution_count": null,
   "id": "twelve-stereo",
   "metadata": {},
   "outputs": [],
   "source": [
    "imagenet=inception_v3.InceptionV3(weights='imagenet',include_top=False)\n",
    "imagenet_new=imagenet.output\n",
    "inception_model = models.Sequential()\n",
    "inception_model.add(imagenet)\n",
    "inception_model.add(GlobalAveragePooling2D())\n",
    "inception_model.add(Dense(1024,activation='relu'))\n",
    "inception_model.add(Dense(1024,activation='relu')) #dense layer 2\n",
    "inception_model.add(Dense(512,activation='relu')) #dense layer 3\n",
    "inception_model.add(Dense(1,activation='sigmoid')) #final layer with sigmoid activation"
   ]
  },
  {
   "cell_type": "code",
   "execution_count": null,
   "id": "european-friday",
   "metadata": {},
   "outputs": [],
   "source": [
    "inception_model.compile(optimizer='Adam',loss='binary_crossentropy',metrics=['accuracy', 'Recall', 'Precision', 'AUC'])\n",
    "\n",
    "inception_model.fit(data_train,\n",
    "          epochs=6,\n",
    "          batch_size=32,\n",
    "          validation_data=(data_val))"
   ]
  },
  {
   "cell_type": "code",
   "execution_count": null,
   "id": "unlikely-gnome",
   "metadata": {},
   "outputs": [],
   "source": [
    "inception_model.evaluate(X_train)"
   ]
  },
  {
   "cell_type": "code",
   "execution_count": null,
   "id": "returning-thought",
   "metadata": {},
   "outputs": [],
   "source": [
    "predictions_transfer = inception_model.predict(X_test)\n",
    "predictions_transfer = np.around(predictions_transfer)"
   ]
  },
  {
   "cell_type": "markdown",
   "id": "polyphonic-photography",
   "metadata": {},
   "source": [
    "## Evaluation Metrics - Model 5"
   ]
  },
  {
   "cell_type": "code",
   "execution_count": null,
   "id": "front-belly",
   "metadata": {},
   "outputs": [],
   "source": [
    "#confusion matrix\n",
    "pred5 = inception_model.predict(X_test)\n",
    "cm = confusion_matrix(y_test, pred5.round())\n",
    "cm"
   ]
  },
  {
   "cell_type": "code",
   "execution_count": null,
   "id": "corporate-devil",
   "metadata": {},
   "outputs": [],
   "source": [
    "classification_report(y_test, pred5.round())"
   ]
  },
  {
   "cell_type": "code",
   "execution_count": null,
   "id": "tight-french",
   "metadata": {},
   "outputs": [],
   "source": [
    "sns.heatmap(cm, annot=True, fmt='g', xticklabels = ['normal', 'pn'], yticklabels = ['normal', 'pn'])"
   ]
  },
  {
   "cell_type": "code",
   "execution_count": null,
   "id": "harmful-packing",
   "metadata": {},
   "outputs": [],
   "source": []
  },
  {
   "cell_type": "code",
   "execution_count": null,
   "id": "delayed-listing",
   "metadata": {},
   "outputs": [],
   "source": []
  },
  {
   "cell_type": "markdown",
   "id": "possible-individual",
   "metadata": {},
   "source": [
    "# Summary/Business Recommendation"
   ]
  },
  {
   "cell_type": "code",
   "execution_count": null,
   "id": "auburn-empty",
   "metadata": {},
   "outputs": [],
   "source": []
  },
  {
   "cell_type": "markdown",
   "id": "higher-slovak",
   "metadata": {},
   "source": [
    "# Futher Steps and Analysis"
   ]
  },
  {
   "cell_type": "code",
   "execution_count": null,
   "id": "adaptive-allocation",
   "metadata": {},
   "outputs": [],
   "source": []
  }
 ],
 "metadata": {
  "kernelspec": {
   "display_name": "Python 3",
   "language": "python",
   "name": "python3"
  },
  "language_info": {
   "codemirror_mode": {
    "name": "ipython",
    "version": 3
   },
   "file_extension": ".py",
   "mimetype": "text/x-python",
   "name": "python",
   "nbconvert_exporter": "python",
   "pygments_lexer": "ipython3",
   "version": "3.8.6"
  }
 },
 "nbformat": 4,
 "nbformat_minor": 5
}
